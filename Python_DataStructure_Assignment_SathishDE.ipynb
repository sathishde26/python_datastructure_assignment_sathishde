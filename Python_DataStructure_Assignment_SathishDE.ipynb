{
 "cells": [
  {
   "cell_type": "code",
   "execution_count": null,
   "id": "fd5b8b33-8983-428c-ac7e-49cbe2c446ea",
   "metadata": {},
   "outputs": [],
   "source": [
    "# Python data structure assignment - SATHISH KUMMAR DE"
   ]
  },
  {
   "cell_type": "code",
   "execution_count": null,
   "id": "0d15f884-b969-4235-9862-d2561a59b43a",
   "metadata": {},
   "outputs": [],
   "source": [
    "# this jupyter file contians the answers for python data strructure assignment questions"
   ]
  },
  {
   "cell_type": "code",
   "execution_count": null,
   "id": "376a8a15-621e-4c81-808f-2479d06d5709",
   "metadata": {},
   "outputs": [],
   "source": [
    "# Q2 Key features of list in Python"
   ]
  },
  {
   "cell_type": "code",
   "execution_count": 2,
   "id": "26d7e8bc-c0a2-479b-a266-c1fccbe253c3",
   "metadata": {},
   "outputs": [
    {
     "name": "stdout",
     "output_type": "stream",
     "text": [
      "Q2 key features of list in Python start\n"
     ]
    }
   ],
   "source": [
    "print (\"Q2 key features of list in Python start\")"
   ]
  },
  {
   "cell_type": "code",
   "execution_count": null,
   "id": "796321ac-000b-4441-be80-d8d324f575b6",
   "metadata": {},
   "outputs": [],
   "source": [
    "\"\"\"\n",
    "list are orderly collection of elements used to access and manipulate\n",
    "list are mutable objects - updated after creation\n",
    "list can store all kinds of data types\n",
    "any kind of list element can be removed\n",
    "new item can be added into existing list of items\n",
    "list items can be accessed using index\n",
    "\n",
    "\"\"\""
   ]
  },
  {
   "cell_type": "code",
   "execution_count": 4,
   "id": "c944e072-5422-4e38-9cb8-2c22ae812741",
   "metadata": {},
   "outputs": [
    {
     "name": "stdout",
     "output_type": "stream",
     "text": [
      "Q2 key features of list in Python end\n"
     ]
    }
   ],
   "source": [
    "print (\"Q2 key features of list in Python end\")"
   ]
  },
  {
   "cell_type": "code",
   "execution_count": null,
   "id": "f9d53c36-358c-47c5-98e7-e79984284d54",
   "metadata": {},
   "outputs": [],
   "source": [
    "# Q3 Access, modify and delete elements in list used in  Python"
   ]
  },
  {
   "cell_type": "code",
   "execution_count": 7,
   "id": "2033713b-39ee-4b2c-8132-29516c431a65",
   "metadata": {},
   "outputs": [
    {
     "name": "stdout",
     "output_type": "stream",
     "text": [
      "Q3 Access, modify and delete elements in list used in  Python start\n"
     ]
    }
   ],
   "source": [
    "print (\"Q3 Access, modify and delete elements in list used in  Python start\")"
   ]
  },
  {
   "cell_type": "code",
   "execution_count": 9,
   "id": "d06b909b-356d-4f5c-b180-deb2051f5cf9",
   "metadata": {},
   "outputs": [
    {
     "data": {
      "text/plain": [
       "list"
      ]
     },
     "execution_count": 9,
     "metadata": {},
     "output_type": "execute_result"
    }
   ],
   "source": [
    "#example 1\n",
    "students = [\"Harry\",\"Peter\",\"Roger\"]\n",
    "type (students)"
   ]
  },
  {
   "cell_type": "code",
   "execution_count": 10,
   "id": "119154e3-ab7d-4805-8cc9-40ef81b33dd0",
   "metadata": {},
   "outputs": [
    {
     "data": {
      "text/plain": [
       "['Harry', 'Peter', 'Roger']"
      ]
     },
     "execution_count": 10,
     "metadata": {},
     "output_type": "execute_result"
    }
   ],
   "source": [
    "students"
   ]
  },
  {
   "cell_type": "code",
   "execution_count": 11,
   "id": "253abe53-c369-413c-97e6-2aacb014e8e7",
   "metadata": {},
   "outputs": [
    {
     "data": {
      "text/plain": [
       "list"
      ]
     },
     "execution_count": 11,
     "metadata": {},
     "output_type": "execute_result"
    }
   ],
   "source": [
    "#example 2\n",
    "marks = [56,89,74]\n",
    "type (marks)"
   ]
  },
  {
   "cell_type": "code",
   "execution_count": 12,
   "id": "58130407-3b52-4ea6-8374-6db628d4ccc6",
   "metadata": {},
   "outputs": [
    {
     "data": {
      "text/plain": [
       "[56, 89, 74]"
      ]
     },
     "execution_count": 12,
     "metadata": {},
     "output_type": "execute_result"
    }
   ],
   "source": [
    "marks"
   ]
  },
  {
   "cell_type": "code",
   "execution_count": 13,
   "id": "06a44bf0-5f51-4039-9835-c6b1d391259e",
   "metadata": {},
   "outputs": [
    {
     "data": {
      "text/plain": [
       "list"
      ]
     },
     "execution_count": 13,
     "metadata": {},
     "output_type": "execute_result"
    }
   ],
   "source": [
    "#example 3 can store any data type\n",
    "ok =  [1,2,\"Hi\",3+4j]\n",
    "type (ok)"
   ]
  },
  {
   "cell_type": "code",
   "execution_count": 14,
   "id": "2d78b8a5-7a37-4e6b-a5f5-eecb83ebfb2f",
   "metadata": {},
   "outputs": [
    {
     "data": {
      "text/plain": [
       "[1, 2, 'Hi', (3+4j)]"
      ]
     },
     "execution_count": 14,
     "metadata": {},
     "output_type": "execute_result"
    }
   ],
   "source": [
    "ok"
   ]
  },
  {
   "cell_type": "code",
   "execution_count": 15,
   "id": "4862cea7-3c15-4de8-82dd-b87a3c43530f",
   "metadata": {},
   "outputs": [
    {
     "data": {
      "text/plain": [
       "list"
      ]
     },
     "execution_count": 15,
     "metadata": {},
     "output_type": "execute_result"
    }
   ],
   "source": [
    "#example 4 list are mutable - using indexing values can be changed after creation\n",
    "ok =  [1,2,\"Hi\",3+4j]\n",
    "type (ok)"
   ]
  },
  {
   "cell_type": "code",
   "execution_count": 16,
   "id": "ab371e73-5f0b-4ddf-a090-38e3a5b969ef",
   "metadata": {},
   "outputs": [
    {
     "data": {
      "text/plain": [
       "[1, 2, 'Hi', (3+4j)]"
      ]
     },
     "execution_count": 16,
     "metadata": {},
     "output_type": "execute_result"
    }
   ],
   "source": [
    "ok"
   ]
  },
  {
   "cell_type": "code",
   "execution_count": 17,
   "id": "46379ab6-198f-486a-9815-1c8a4a527474",
   "metadata": {},
   "outputs": [
    {
     "data": {
      "text/plain": [
       "[1, 2, 'Bye', (3+4j)]"
      ]
     },
     "execution_count": 17,
     "metadata": {},
     "output_type": "execute_result"
    }
   ],
   "source": [
    "#replace with new value using indexing\n",
    "ok[2]=\"Bye\"\n",
    "ok"
   ]
  },
  {
   "cell_type": "code",
   "execution_count": 19,
   "id": "f77b83d4-6c93-4b8f-a588-6d99d78ea95c",
   "metadata": {},
   "outputs": [
    {
     "data": {
      "text/plain": [
       "[1, 2, (3+4j)]"
      ]
     },
     "execution_count": 19,
     "metadata": {},
     "output_type": "execute_result"
    }
   ],
   "source": [
    "# remove used to remove the object from the list\n",
    "ok.remove(\"Bye\")\n",
    "ok"
   ]
  },
  {
   "cell_type": "code",
   "execution_count": 20,
   "id": "9edfa2e6-6c47-4cdf-a056-9043bcc9f6fa",
   "metadata": {},
   "outputs": [
    {
     "data": {
      "text/plain": [
       "[1, 2, (3+4j), 'Car']"
      ]
     },
     "execution_count": 20,
     "metadata": {},
     "output_type": "execute_result"
    }
   ],
   "source": [
    "#to add new item into list - it will geta dded at the end of the list\n",
    "# append is a function to add object to list\n",
    "ok.append(\"Car\")\n",
    "ok"
   ]
  },
  {
   "cell_type": "code",
   "execution_count": 21,
   "id": "9eacba84-222b-4dad-bdd5-23ea1252f36b",
   "metadata": {},
   "outputs": [
    {
     "data": {
      "text/plain": [
       "list"
      ]
     },
     "execution_count": 21,
     "metadata": {},
     "output_type": "execute_result"
    }
   ],
   "source": [
    "# list inside list can also be created\n",
    "ok =[[1,2],[\"Hi\",5],[\"Bye\",3,4]]\n",
    "type (ok)"
   ]
  },
  {
   "cell_type": "code",
   "execution_count": 22,
   "id": "ee084156-bf90-40ff-b36e-50842e9bfb48",
   "metadata": {},
   "outputs": [
    {
     "data": {
      "text/plain": [
       "[[1, 2], ['Hi', 5], ['Bye', 3, 4]]"
      ]
     },
     "execution_count": 22,
     "metadata": {},
     "output_type": "execute_result"
    }
   ],
   "source": [
    "ok"
   ]
  },
  {
   "cell_type": "code",
   "execution_count": 23,
   "id": "f817f26a-3bc9-4e36-8e66-c9b1836ab130",
   "metadata": {},
   "outputs": [
    {
     "data": {
      "text/plain": [
       "2"
      ]
     },
     "execution_count": 23,
     "metadata": {},
     "output_type": "execute_result"
    }
   ],
   "source": [
    "#accessing first data list inside main data list\n",
    "ok =[[1,2],[\"Hi\",5],[\"Bye\",3,4]]\n",
    "ok [0][1]"
   ]
  },
  {
   "cell_type": "code",
   "execution_count": 25,
   "id": "08f266c0-8734-47bb-ac12-a06124646466",
   "metadata": {},
   "outputs": [
    {
     "data": {
      "text/plain": [
       "'Bye'"
      ]
     },
     "execution_count": 25,
     "metadata": {},
     "output_type": "execute_result"
    }
   ],
   "source": [
    "#accessing third  data list inside main data list\n",
    "ok =[[1,2],[\"Hi\",5],[\"Bye\",3,4]]\n",
    "ok [2][0]"
   ]
  },
  {
   "cell_type": "code",
   "execution_count": 34,
   "id": "8f3dc92e-e0fb-4849-b2b6-7abb56409382",
   "metadata": {},
   "outputs": [
    {
     "data": {
      "text/plain": [
       "list"
      ]
     },
     "execution_count": 34,
     "metadata": {},
     "output_type": "execute_result"
    }
   ],
   "source": [
    "#list\n",
    "ok =  [1,2,\"Hi\",3+4j,34,\"Yatch\"]\n",
    "type (ok)"
   ]
  },
  {
   "cell_type": "code",
   "execution_count": 35,
   "id": "966bccd1-d7b3-47cb-8915-a386761a17fe",
   "metadata": {},
   "outputs": [
    {
     "data": {
      "text/plain": [
       "(3+4j)"
      ]
     },
     "execution_count": 35,
     "metadata": {},
     "output_type": "execute_result"
    }
   ],
   "source": [
    "#access list element usinf indexing\n",
    "ok[3]"
   ]
  },
  {
   "cell_type": "code",
   "execution_count": 36,
   "id": "03a43e77-fa70-4aca-9c81-30f97a9855a6",
   "metadata": {},
   "outputs": [
    {
     "data": {
      "text/plain": [
       "[2, 'Hi', (3+4j), 34, 'Yatch']"
      ]
     },
     "execution_count": 36,
     "metadata": {},
     "output_type": "execute_result"
    }
   ],
   "source": [
    "#display the value after the mentioned index value - slicing concept in list\n",
    "ok[1:]"
   ]
  },
  {
   "cell_type": "code",
   "execution_count": 39,
   "id": "07d84fe9-c156-4958-b2f6-84de7453fbf6",
   "metadata": {},
   "outputs": [
    {
     "data": {
      "text/plain": [
       "[2, 'Hi']"
      ]
     },
     "execution_count": 39,
     "metadata": {},
     "output_type": "execute_result"
    }
   ],
   "source": [
    "#display the values between range of index - slicing  concept in list\n",
    "ok[1:3]"
   ]
  },
  {
   "cell_type": "code",
   "execution_count": 40,
   "id": "64a978e9-cee9-4eae-b2e3-c0d26fb1367a",
   "metadata": {},
   "outputs": [
    {
     "data": {
      "text/plain": [
       "'Yatch'"
      ]
     },
     "execution_count": 40,
     "metadata": {},
     "output_type": "execute_result"
    }
   ],
   "source": [
    "#to accesss the last item - negavtive indexing\n",
    "ok[-1]"
   ]
  },
  {
   "cell_type": "code",
   "execution_count": 41,
   "id": "2183ab6c-d493-4b68-a8a8-e3667a1c7612",
   "metadata": {},
   "outputs": [
    {
     "data": {
      "text/plain": [
       "(3+4j)"
      ]
     },
     "execution_count": 41,
     "metadata": {},
     "output_type": "execute_result"
    }
   ],
   "source": [
    "#to accesss the last item - negavtive indexing\n",
    "ok[-3]"
   ]
  },
  {
   "cell_type": "code",
   "execution_count": 42,
   "id": "dc47119c-4578-4b05-973d-504f624c5b53",
   "metadata": {},
   "outputs": [
    {
     "data": {
      "text/plain": [
       "list"
      ]
     },
     "execution_count": 42,
     "metadata": {},
     "output_type": "execute_result"
    }
   ],
   "source": [
    "#example - replace index value from one value to another value, 89 replaced with 96\n",
    "marks = [56,89,74]\n",
    "type (marks)"
   ]
  },
  {
   "cell_type": "code",
   "execution_count": 43,
   "id": "cce09a8c-b7f4-4e67-ab7a-90ab388fcdc3",
   "metadata": {},
   "outputs": [
    {
     "data": {
      "text/plain": [
       "[56, 89, 74]"
      ]
     },
     "execution_count": 43,
     "metadata": {},
     "output_type": "execute_result"
    }
   ],
   "source": [
    "marks"
   ]
  },
  {
   "cell_type": "code",
   "execution_count": 45,
   "id": "6a247a2c-abb1-4530-a5e1-759dfde6ecc0",
   "metadata": {},
   "outputs": [
    {
     "data": {
      "text/plain": [
       "[56, 96, 74]"
      ]
     },
     "execution_count": 45,
     "metadata": {},
     "output_type": "execute_result"
    }
   ],
   "source": [
    "marks[1]=96\n",
    "marks"
   ]
  },
  {
   "cell_type": "code",
   "execution_count": 46,
   "id": "dd04e8bc-d2d1-4883-809c-e90efc21590a",
   "metadata": {},
   "outputs": [
    {
     "data": {
      "text/plain": [
       "[56, 89, 74]"
      ]
     },
     "execution_count": 46,
     "metadata": {},
     "output_type": "execute_result"
    }
   ],
   "source": [
    "#example - insert value before the mentioned index number\n",
    "marks = [56,89,74]\n",
    "marks"
   ]
  },
  {
   "cell_type": "code",
   "execution_count": 52,
   "id": "b9d3a991-cde4-4e82-b857-b599c4003930",
   "metadata": {},
   "outputs": [
    {
     "data": {
      "text/plain": [
       "[56, 'Hi', 'OK', 'Hi', 'Hi', 89, 74]"
      ]
     },
     "execution_count": 52,
     "metadata": {},
     "output_type": "execute_result"
    }
   ],
   "source": [
    "marks.insert(1, \"Hi\")\n",
    "marks"
   ]
  },
  {
   "cell_type": "code",
   "execution_count": 53,
   "id": "f71ce238-e166-49d8-b3e5-b1f32297edfb",
   "metadata": {},
   "outputs": [
    {
     "data": {
      "text/plain": [
       "[1, 2, 3, 4, 5, 6]"
      ]
     },
     "execution_count": 53,
     "metadata": {},
     "output_type": "execute_result"
    }
   ],
   "source": [
    "#extend - concatentes 2 list items\n",
    "#list name before the extend command will be extended along with list 2 name\n",
    "#list name after the extend command will remain the same\n",
    "sam_list=[1,2,3]\n",
    "tom_list=[4,5,6]\n",
    "sam_list.extend(tom_list)\n",
    "sam_list"
   ]
  },
  {
   "cell_type": "code",
   "execution_count": 54,
   "id": "407a8feb-55cf-47e1-94d6-2312557c87d2",
   "metadata": {},
   "outputs": [
    {
     "data": {
      "text/plain": [
       "[4, 5, 6]"
      ]
     },
     "execution_count": 54,
     "metadata": {},
     "output_type": "execute_result"
    }
   ],
   "source": [
    "tom_list"
   ]
  },
  {
   "cell_type": "code",
   "execution_count": 55,
   "id": "aee240bd-6e5d-4be7-a948-4df5432abfaf",
   "metadata": {},
   "outputs": [
    {
     "data": {
      "text/plain": [
       "[1, 2, 3, 4, 5, 6]"
      ]
     },
     "execution_count": 55,
     "metadata": {},
     "output_type": "execute_result"
    }
   ],
   "source": [
    "#+ concatenate two lists\n",
    "sam_list=[1,2,3]\n",
    "tom_list=[4,5,6]\n",
    "sam_list + tom_list\n"
   ]
  },
  {
   "cell_type": "code",
   "execution_count": 56,
   "id": "2938080a-0fb4-4329-bc83-6d422a8a32c6",
   "metadata": {},
   "outputs": [
    {
     "data": {
      "text/plain": [
       "['Sri', 'Hari', 'Kim']"
      ]
     },
     "execution_count": 56,
     "metadata": {},
     "output_type": "execute_result"
    }
   ],
   "source": [
    "#pop\n",
    "names=[\"Sri\",\"Hari\",\"Kim\"]\n",
    "names"
   ]
  },
  {
   "cell_type": "code",
   "execution_count": 57,
   "id": "8921e1a5-e674-4d09-a43e-c64e27a1c043",
   "metadata": {},
   "outputs": [
    {
     "data": {
      "text/plain": [
       "'Kim'"
      ]
     },
     "execution_count": 57,
     "metadata": {},
     "output_type": "execute_result"
    }
   ],
   "source": [
    "names.pop() # default last element is deleted from the list elements"
   ]
  },
  {
   "cell_type": "code",
   "execution_count": 58,
   "id": "146e3fa7-de51-4fb6-afce-2e499535abd1",
   "metadata": {},
   "outputs": [
    {
     "data": {
      "text/plain": [
       "['Sri', 'Hari']"
      ]
     },
     "execution_count": 58,
     "metadata": {},
     "output_type": "execute_result"
    }
   ],
   "source": [
    "names"
   ]
  },
  {
   "cell_type": "code",
   "execution_count": 59,
   "id": "cb4685d8-ef69-4fac-92c3-33eabca6118c",
   "metadata": {},
   "outputs": [
    {
     "data": {
      "text/plain": [
       "['Sri', 'Hari', 'Kim']"
      ]
     },
     "execution_count": 59,
     "metadata": {},
     "output_type": "execute_result"
    }
   ],
   "source": [
    "#pop\n",
    "names=[\"Sri\",\"Hari\",\"Kim\"]\n",
    "names"
   ]
  },
  {
   "cell_type": "code",
   "execution_count": 60,
   "id": "ee341e3d-5640-46ec-9511-160fd0f5891b",
   "metadata": {},
   "outputs": [
    {
     "data": {
      "text/plain": [
       "['Sri', 'Kim']"
      ]
     },
     "execution_count": 60,
     "metadata": {},
     "output_type": "execute_result"
    }
   ],
   "source": [
    "names.pop(1) #index value element of 1 is removed from the list\n",
    "names"
   ]
  },
  {
   "cell_type": "code",
   "execution_count": 8,
   "id": "b1a51e6e-e717-405e-86bc-da95d584d679",
   "metadata": {},
   "outputs": [
    {
     "name": "stdout",
     "output_type": "stream",
     "text": [
      "Q3 Access, modify and delete elements in list used in  Python end\n"
     ]
    }
   ],
   "source": [
    "print (\"Q3 Access, modify and delete elements in list used in  Python end\")"
   ]
  },
  {
   "cell_type": "code",
   "execution_count": 53,
   "id": "f3087366-ab53-4b12-8547-a34d972120eb",
   "metadata": {},
   "outputs": [
    {
     "name": "stdout",
     "output_type": "stream",
     "text": [
      "Q3 compete\n"
     ]
    }
   ],
   "source": [
    "print (\"Q3 compete\")"
   ]
  },
  {
   "cell_type": "code",
   "execution_count": null,
   "id": "48a66377-0a2a-4cca-83d4-a390c25dc352",
   "metadata": {},
   "outputs": [],
   "source": [
    "# Q5 Key features of sets with examples"
   ]
  },
  {
   "cell_type": "code",
   "execution_count": 61,
   "id": "b7c4b1b1-0309-4125-b7cb-769f9e9b5ce5",
   "metadata": {},
   "outputs": [
    {
     "name": "stdout",
     "output_type": "stream",
     "text": [
      "Key features of sets with examples start\n"
     ]
    }
   ],
   "source": [
    "print (\"Key features of sets with examples start\")"
   ]
  },
  {
   "cell_type": "code",
   "execution_count": null,
   "id": "72764f73-7bcc-4238-b4cd-42475c6ec535",
   "metadata": {},
   "outputs": [],
   "source": [
    "\"\"\"\n",
    "Sets are unordered collection of unique elements\n",
    "denoted by curly bracket {}\n",
    "will skip the duplicate objects\n",
    "user input order will not be shown in the displayed output\n",
    "contain all kinds of data types\n",
    "indexing concept not applicable for SET since they are unordered\n",
    "\n",
    "\"\"\""
   ]
  },
  {
   "cell_type": "code",
   "execution_count": 1,
   "id": "67c5afec-27a4-4169-a322-81134e194b42",
   "metadata": {},
   "outputs": [
    {
     "data": {
      "text/plain": [
       "set"
      ]
     },
     "execution_count": 1,
     "metadata": {},
     "output_type": "execute_result"
    }
   ],
   "source": [
    "r = {\"Bye\",\"Hi\"}\n",
    "type (r)"
   ]
  },
  {
   "cell_type": "code",
   "execution_count": 2,
   "id": "63546ae8-7e34-49ae-bdbd-faaae6677e10",
   "metadata": {},
   "outputs": [
    {
     "data": {
      "text/plain": [
       "{'Bye', 'Hi'}"
      ]
     },
     "execution_count": 2,
     "metadata": {},
     "output_type": "execute_result"
    }
   ],
   "source": [
    "r"
   ]
  },
  {
   "cell_type": "code",
   "execution_count": 3,
   "id": "1afb38f9-491c-464b-9e82-9d6f72d1a97b",
   "metadata": {},
   "outputs": [
    {
     "data": {
      "text/plain": [
       "{'Bye', 'Hi', 'WIN'}"
      ]
     },
     "execution_count": 3,
     "metadata": {},
     "output_type": "execute_result"
    }
   ],
   "source": [
    "#to add object into existing set\n",
    "r.add(\"WIN\")\n",
    "r"
   ]
  },
  {
   "cell_type": "code",
   "execution_count": 4,
   "id": "9f9f289b-32bd-427e-987d-9a3534f88fc4",
   "metadata": {},
   "outputs": [
    {
     "data": {
      "text/plain": [
       "{'Bye', 'Hi'}"
      ]
     },
     "execution_count": 4,
     "metadata": {},
     "output_type": "execute_result"
    }
   ],
   "source": [
    "#to remove object into existing set\n",
    "r.remove(\"WIN\")\n",
    "r"
   ]
  },
  {
   "cell_type": "code",
   "execution_count": 9,
   "id": "75a55466-fe59-420d-a6eb-a8d16590f786",
   "metadata": {},
   "outputs": [
    {
     "ename": "TypeError",
     "evalue": "'set' object is not subscriptable",
     "output_type": "error",
     "traceback": [
      "\u001b[0;31m---------------------------------------------------------------------------\u001b[0m",
      "\u001b[0;31mTypeError\u001b[0m                                 Traceback (most recent call last)",
      "Cell \u001b[0;32mIn[9], line 1\u001b[0m\n\u001b[0;32m----> 1\u001b[0m \u001b[43mr\u001b[49m\u001b[43m[\u001b[49m\u001b[38;5;241;43m1\u001b[39;49m\u001b[43m]\u001b[49m\n",
      "\u001b[0;31mTypeError\u001b[0m: 'set' object is not subscriptable"
     ]
    }
   ],
   "source": [
    "r[1] #indexing cannot be applied for elements of set due to unordered elements"
   ]
  },
  {
   "cell_type": "code",
   "execution_count": 10,
   "id": "98d33d6b-228c-4568-aec2-19541b46caa3",
   "metadata": {},
   "outputs": [
    {
     "data": {
      "text/plain": [
       "set"
      ]
     },
     "execution_count": 10,
     "metadata": {},
     "output_type": "execute_result"
    }
   ],
   "source": [
    "r = {\"Bye\",\"Hi\",\"Ok\",\"Hi\",\"GM\"}\n",
    "type (r)"
   ]
  },
  {
   "cell_type": "code",
   "execution_count": 11,
   "id": "370ab700-de5c-4a17-9388-e45d00e085d7",
   "metadata": {},
   "outputs": [
    {
     "data": {
      "text/plain": [
       "{'Bye', 'GM', 'Hi', 'Ok'}"
      ]
     },
     "execution_count": 11,
     "metadata": {},
     "output_type": "execute_result"
    }
   ],
   "source": [
    "#output order shown is not as per user input order\n",
    "#duplicate elements will be removed during execution\n",
    "r"
   ]
  },
  {
   "cell_type": "code",
   "execution_count": 39,
   "id": "175dfe4c-512e-4099-aecf-72e97c60264e",
   "metadata": {},
   "outputs": [
    {
     "data": {
      "text/plain": [
       "'Hi'"
      ]
     },
     "execution_count": 39,
     "metadata": {},
     "output_type": "execute_result"
    }
   ],
   "source": [
    "r.pop() # random reoval of list elements"
   ]
  },
  {
   "cell_type": "code",
   "execution_count": 40,
   "id": "54944f53-aa28-45c0-9ce4-e49c4086df01",
   "metadata": {},
   "outputs": [
    {
     "data": {
      "text/plain": [
       "{'Bye', 'GM', 'Ok'}"
      ]
     },
     "execution_count": 40,
     "metadata": {},
     "output_type": "execute_result"
    }
   ],
   "source": [
    "r"
   ]
  },
  {
   "cell_type": "code",
   "execution_count": 48,
   "id": "e8107d3b-7327-4b0f-9478-56ffe9d19246",
   "metadata": {},
   "outputs": [
    {
     "data": {
      "text/plain": [
       "set"
      ]
     },
     "execution_count": 48,
     "metadata": {},
     "output_type": "execute_result"
    }
   ],
   "source": [
    "#set operations - union,intersection,difference,symmetric difference\n",
    "r1 = {\"bike\",\"car\",\"van\"}\n",
    "r2 = {\"van\",\"cycle\",\"bus\"}\n",
    "type (r1)\n",
    "type (r2)"
   ]
  },
  {
   "cell_type": "code",
   "execution_count": 49,
   "id": "ad3014d3-5796-43e3-9584-2453e98180ce",
   "metadata": {},
   "outputs": [
    {
     "data": {
      "text/plain": [
       "{'van'}"
      ]
     },
     "execution_count": 49,
     "metadata": {},
     "output_type": "execute_result"
    }
   ],
   "source": [
    "#intersection\n",
    "r1 & r2"
   ]
  },
  {
   "cell_type": "code",
   "execution_count": 50,
   "id": "65441933-1be7-437b-87d7-efc11d8bb60d",
   "metadata": {},
   "outputs": [
    {
     "data": {
      "text/plain": [
       "{'bike', 'bus', 'car', 'cycle', 'van'}"
      ]
     },
     "execution_count": 50,
     "metadata": {},
     "output_type": "execute_result"
    }
   ],
   "source": [
    "#union\n",
    "r1 | r2"
   ]
  },
  {
   "cell_type": "code",
   "execution_count": 51,
   "id": "0261a872-4c3b-4484-a300-7341a297dfb4",
   "metadata": {},
   "outputs": [
    {
     "data": {
      "text/plain": [
       "{'bike', 'car'}"
      ]
     },
     "execution_count": 51,
     "metadata": {},
     "output_type": "execute_result"
    }
   ],
   "source": [
    "#difference\n",
    "r1-r2"
   ]
  },
  {
   "cell_type": "code",
   "execution_count": 52,
   "id": "a29e68b7-c00a-48d0-99ea-93fa129e04b9",
   "metadata": {},
   "outputs": [
    {
     "data": {
      "text/plain": [
       "{'bike', 'bus', 'car', 'cycle'}"
      ]
     },
     "execution_count": 52,
     "metadata": {},
     "output_type": "execute_result"
    }
   ],
   "source": [
    "#symmetric difference\n",
    "r1 ^ r2"
   ]
  },
  {
   "cell_type": "code",
   "execution_count": 41,
   "id": "e97c07e1-c4a4-4389-b0fe-dfb619f0b835",
   "metadata": {},
   "outputs": [
    {
     "name": "stdout",
     "output_type": "stream",
     "text": [
      "Q5 Key features of sets with examples end, Q5 completed\n"
     ]
    }
   ],
   "source": [
    "print (\"Q5 Key features of sets with examples end, Q5 completed\")"
   ]
  },
  {
   "cell_type": "code",
   "execution_count": null,
   "id": "0198bd28-d0eb-478c-992b-729f821f3ddd",
   "metadata": {},
   "outputs": [],
   "source": [
    "# Q6 Tuples in Python"
   ]
  },
  {
   "cell_type": "code",
   "execution_count": 12,
   "id": "a9537c5a-60a2-44af-9ebc-089c0de8a7a2",
   "metadata": {},
   "outputs": [
    {
     "name": "stdout",
     "output_type": "stream",
     "text": [
      "Q6 tuples in python\n"
     ]
    }
   ],
   "source": [
    "print (\"Q6 tuples in python\")"
   ]
  },
  {
   "cell_type": "code",
   "execution_count": null,
   "id": "d8e45100-e3f1-4340-800e-c056f2eb93b0",
   "metadata": {},
   "outputs": [],
   "source": [
    "\"\"\"\n",
    "Tuples in one of the data structures used in Python\n",
    "Tuples ar innmutable - cannot be changed after creation\n",
    "They can store all kinds of data types\n",
    "ordered collection of elements\n",
    "Heterogenous \n",
    "Written with round brackets\n",
    "Indexing applies\n",
    "Allow duplicate values\n",
    "Order cannot be changed after creation\n",
    "\n",
    "\"\"\""
   ]
  },
  {
   "cell_type": "code",
   "execution_count": 14,
   "id": "3cfc03a2-f682-41e4-a4f5-5d8699736857",
   "metadata": {},
   "outputs": [
    {
     "name": "stdout",
     "output_type": "stream",
     "text": [
      "('apple', 'banana', 'cherry')\n"
     ]
    },
    {
     "data": {
      "text/plain": [
       "tuple"
      ]
     },
     "execution_count": 14,
     "metadata": {},
     "output_type": "execute_result"
    }
   ],
   "source": [
    "thistuple = (\"apple\", \"banana\", \"cherry\")\n",
    "print(thistuple)\n",
    "type (thistuple)"
   ]
  },
  {
   "cell_type": "code",
   "execution_count": 15,
   "id": "534af881-8c8c-44f4-b828-3fc8c72164d0",
   "metadata": {},
   "outputs": [
    {
     "data": {
      "text/plain": [
       "'banana'"
      ]
     },
     "execution_count": 15,
     "metadata": {},
     "output_type": "execute_result"
    }
   ],
   "source": [
    "#index 0=apple,1=banana,2=cherry\n",
    "thistuple[1]"
   ]
  },
  {
   "cell_type": "code",
   "execution_count": 16,
   "id": "2282e495-be74-4f58-b9b2-36cf1b96a642",
   "metadata": {},
   "outputs": [
    {
     "ename": "TypeError",
     "evalue": "'tuple' object does not support item assignment",
     "output_type": "error",
     "traceback": [
      "\u001b[0;31m---------------------------------------------------------------------------\u001b[0m",
      "\u001b[0;31mTypeError\u001b[0m                                 Traceback (most recent call last)",
      "Cell \u001b[0;32mIn[16], line 1\u001b[0m\n\u001b[0;32m----> 1\u001b[0m \u001b[43mthistuple\u001b[49m\u001b[43m[\u001b[49m\u001b[38;5;241;43m1\u001b[39;49m\u001b[43m]\u001b[49m\u001b[38;5;241m=\u001b[39m \u001b[38;5;241m23\u001b[39m\n",
      "\u001b[0;31mTypeError\u001b[0m: 'tuple' object does not support item assignment"
     ]
    }
   ],
   "source": [
    "thistuple[1]= 23  #element modification cannot be done once defined it lasts forever"
   ]
  },
  {
   "cell_type": "code",
   "execution_count": 17,
   "id": "b822e8c1-838a-4a7d-80db-e1b770c73422",
   "metadata": {},
   "outputs": [
    {
     "data": {
      "text/plain": [
       "3"
      ]
     },
     "execution_count": 17,
     "metadata": {},
     "output_type": "execute_result"
    }
   ],
   "source": [
    "#shows length of the tuple\n",
    "len (thistuple)"
   ]
  },
  {
   "cell_type": "code",
   "execution_count": 20,
   "id": "490c0886-109d-40c6-a138-3f39040c2edc",
   "metadata": {},
   "outputs": [
    {
     "data": {
      "text/plain": [
       "tuple"
      ]
     },
     "execution_count": 20,
     "metadata": {},
     "output_type": "execute_result"
    }
   ],
   "source": [
    "num = (1,2,3,6,9)\n",
    "type (num)"
   ]
  },
  {
   "cell_type": "code",
   "execution_count": 19,
   "id": "6bab0113-a849-4286-8c4e-eaa2d116dc9e",
   "metadata": {},
   "outputs": [
    {
     "data": {
      "text/plain": [
       "9"
      ]
     },
     "execution_count": 19,
     "metadata": {},
     "output_type": "execute_result"
    }
   ],
   "source": [
    "#to find the maximum element from the tuple set of data\n",
    "num = (1,2,3,6,9)\n",
    "max (num)"
   ]
  },
  {
   "cell_type": "code",
   "execution_count": 21,
   "id": "2c74afc2-18ef-4648-89dd-93bcc549a92f",
   "metadata": {},
   "outputs": [
    {
     "data": {
      "text/plain": [
       "1"
      ]
     },
     "execution_count": 21,
     "metadata": {},
     "output_type": "execute_result"
    }
   ],
   "source": [
    "#to find the minimum element from the tuple set of data\n",
    "num = (1,2,3,6,9)\n",
    "min (num)"
   ]
  },
  {
   "cell_type": "code",
   "execution_count": 26,
   "id": "602d29b9-552b-47be-b3d9-fa97b94cbc11",
   "metadata": {},
   "outputs": [
    {
     "data": {
      "text/plain": [
       "tuple"
      ]
     },
     "execution_count": 26,
     "metadata": {},
     "output_type": "execute_result"
    }
   ],
   "source": [
    "#nested tuple - tuple inside tuple, ywo tuples assigned to another tuple\n",
    "r1 = (1,2,\"Hi\")\n",
    "r2 = (5,\"Ok\",3,98)\n",
    "bigr = (r1, r2)\n",
    "type (bigr)"
   ]
  },
  {
   "cell_type": "code",
   "execution_count": 28,
   "id": "6bf931ff-940d-4c54-86bb-5df44839a74e",
   "metadata": {},
   "outputs": [
    {
     "data": {
      "text/plain": [
       "((1, 2, 'Hi'), (5, 'Ok', 3, 98))"
      ]
     },
     "execution_count": 28,
     "metadata": {},
     "output_type": "execute_result"
    }
   ],
   "source": [
    "bigr"
   ]
  },
  {
   "cell_type": "code",
   "execution_count": 29,
   "id": "c872d137-8ff7-4011-afe3-49ee23a5c6b4",
   "metadata": {},
   "outputs": [
    {
     "data": {
      "text/plain": [
       "tuple"
      ]
     },
     "execution_count": 29,
     "metadata": {},
     "output_type": "execute_result"
    }
   ],
   "source": [
    "#concatenation of tuple data sets\n",
    "bigr = (r1+r2)\n",
    "type (bigr)"
   ]
  },
  {
   "cell_type": "code",
   "execution_count": 30,
   "id": "1ab5c7cd-fd53-4c1b-b2c0-040283b57c0f",
   "metadata": {},
   "outputs": [
    {
     "data": {
      "text/plain": [
       "(1, 2, 'Hi', 5, 'Ok', 3, 98)"
      ]
     },
     "execution_count": 30,
     "metadata": {},
     "output_type": "execute_result"
    }
   ],
   "source": [
    "bigr"
   ]
  },
  {
   "cell_type": "code",
   "execution_count": 31,
   "id": "5b6c0b59-404c-45c0-b745-998646e3cdb8",
   "metadata": {},
   "outputs": [
    {
     "data": {
      "text/plain": [
       "True"
      ]
     },
     "execution_count": 31,
     "metadata": {},
     "output_type": "execute_result"
    }
   ],
   "source": [
    "#usage of membership operators in tuples\n",
    "2 in bigr"
   ]
  },
  {
   "cell_type": "code",
   "execution_count": 32,
   "id": "cfd73464-e19f-4fe5-926c-406bcbd94f3b",
   "metadata": {},
   "outputs": [
    {
     "data": {
      "text/plain": [
       "False"
      ]
     },
     "execution_count": 32,
     "metadata": {},
     "output_type": "execute_result"
    }
   ],
   "source": [
    "56 in bigr"
   ]
  },
  {
   "cell_type": "code",
   "execution_count": 33,
   "id": "cb476f0b-2b72-41ea-bc8f-c2aa8ef5f1c2",
   "metadata": {},
   "outputs": [
    {
     "data": {
      "text/plain": [
       "True"
      ]
     },
     "execution_count": 33,
     "metadata": {},
     "output_type": "execute_result"
    }
   ],
   "source": [
    "44 not in bigr"
   ]
  },
  {
   "cell_type": "code",
   "execution_count": 34,
   "id": "68d5f6b9-fb36-4228-b631-3fbef8454e22",
   "metadata": {},
   "outputs": [
    {
     "name": "stdout",
     "output_type": "stream",
     "text": [
      "Q6 tuples in python done\n"
     ]
    }
   ],
   "source": [
    "print (\"Q6 tuples in python done\")"
   ]
  },
  {
   "cell_type": "code",
   "execution_count": 38,
   "id": "f0a55efa-62c4-4136-8dbf-5b5943dfc3c4",
   "metadata": {},
   "outputs": [
    {
     "name": "stdout",
     "output_type": "stream",
     "text": [
      "Q6 competed\n"
     ]
    }
   ],
   "source": [
    "print (\"Q6 competed\")"
   ]
  },
  {
   "cell_type": "code",
   "execution_count": null,
   "id": "c248c6d1-cc7a-4280-9741-8b8e078a839d",
   "metadata": {},
   "outputs": [],
   "source": [
    "# Q7 & Q8 dictionary data structure in Python"
   ]
  },
  {
   "cell_type": "code",
   "execution_count": 17,
   "id": "e74c57e8-caf7-485c-a906-049ce724993d",
   "metadata": {},
   "outputs": [
    {
     "name": "stdout",
     "output_type": "stream",
     "text": [
      "Q7 & Q8 start - dictionary data structure in Python\n"
     ]
    }
   ],
   "source": [
    "print (\"Q7 & Q8 start - dictionary data structure in Python\")"
   ]
  },
  {
   "cell_type": "code",
   "execution_count": null,
   "id": "8c068fee-3faa-4636-8621-1b90d768a833",
   "metadata": {},
   "outputs": [],
   "source": [
    "\"\"\"\n",
    "dictionary - data structure\n",
    "stores data in form of key value pair\n",
    "{} used for denotion\n",
    ": colon used to separte key part and value part\n",
    "unordered\n",
    "\n",
    "\"\"\""
   ]
  },
  {
   "cell_type": "code",
   "execution_count": 3,
   "id": "6fa383b8-b735-46b0-81c8-8ef750cc95d9",
   "metadata": {},
   "outputs": [
    {
     "data": {
      "text/plain": [
       "dict"
      ]
     },
     "execution_count": 3,
     "metadata": {},
     "output_type": "execute_result"
    }
   ],
   "source": [
    "sam_dict = {}\n",
    "type (sam_dict)"
   ]
  },
  {
   "cell_type": "code",
   "execution_count": 4,
   "id": "ec8a83ca-3cc7-4595-8388-79a1452054e2",
   "metadata": {},
   "outputs": [
    {
     "data": {
      "text/plain": [
       "{'name': 'Sri', 'age': 23, 'gender': 'M'}"
      ]
     },
     "execution_count": 4,
     "metadata": {},
     "output_type": "execute_result"
    }
   ],
   "source": [
    "# name is key, Sri is the value, age is the key, 23 is the value, gender is the key, M is the value\n",
    "sam_dict = {\"name\" : \"Sri\", \"age\" : 23, \"gender\" : \"M\"}\n",
    "sam_dict"
   ]
  },
  {
   "cell_type": "code",
   "execution_count": 6,
   "id": "f9dbe34b-e160-409f-a0df-d07b4add822b",
   "metadata": {},
   "outputs": [
    {
     "data": {
      "text/plain": [
       "{'name': 'Sri', 'age': 23, 'gender': 'M'}"
      ]
     },
     "execution_count": 6,
     "metadata": {},
     "output_type": "execute_result"
    }
   ],
   "source": [
    "sam_dict"
   ]
  },
  {
   "cell_type": "code",
   "execution_count": 8,
   "id": "15c60bca-6332-42ba-a70b-641db1895099",
   "metadata": {},
   "outputs": [
    {
     "data": {
      "text/plain": [
       "23"
      ]
     },
     "execution_count": 8,
     "metadata": {},
     "output_type": "execute_result"
    }
   ],
   "source": [
    "sam_dict [\"age\"] # index display with the key name"
   ]
  },
  {
   "cell_type": "code",
   "execution_count": 9,
   "id": "d6b18348-865e-46ed-b714-bf9a9f372acc",
   "metadata": {},
   "outputs": [
    {
     "data": {
      "text/plain": [
       "{'name': 'Sri', 'age': 23, 'gender': 'M'}"
      ]
     },
     "execution_count": 9,
     "metadata": {},
     "output_type": "execute_result"
    }
   ],
   "source": [
    "sam_dict"
   ]
  },
  {
   "cell_type": "code",
   "execution_count": 11,
   "id": "6833ccd4-2152-418a-a077-684cae316278",
   "metadata": {},
   "outputs": [
    {
     "data": {
      "text/plain": [
       "{'name': 'Hari', 'age': 23, 'gender': 'M'}"
      ]
     },
     "execution_count": 11,
     "metadata": {},
     "output_type": "execute_result"
    }
   ],
   "source": [
    "sam_dict [\"name\"] = \"Hari\"\n",
    "sam_dict\n",
    "# modify the value of the key element"
   ]
  },
  {
   "cell_type": "code",
   "execution_count": 12,
   "id": "1a7bbfd8-9424-4c0c-a3fc-1f5f476e44ac",
   "metadata": {},
   "outputs": [
    {
     "data": {
      "text/plain": [
       "{'name': 'Hari', 'age': 23, 'gender': 'M'}"
      ]
     },
     "execution_count": 12,
     "metadata": {},
     "output_type": "execute_result"
    }
   ],
   "source": [
    "sam_dict"
   ]
  },
  {
   "cell_type": "code",
   "execution_count": 15,
   "id": "97985eb5-26dd-4f4a-9c4e-b012aab4a796",
   "metadata": {},
   "outputs": [
    {
     "data": {
      "text/plain": [
       "23"
      ]
     },
     "execution_count": 15,
     "metadata": {},
     "output_type": "execute_result"
    }
   ],
   "source": [
    "sam_dict.pop (\"age\")\n",
    "#delete specific key value apir"
   ]
  },
  {
   "cell_type": "code",
   "execution_count": 16,
   "id": "d16a4f1d-0e6c-459b-b251-74c661ade844",
   "metadata": {},
   "outputs": [
    {
     "data": {
      "text/plain": [
       "{'name': 'Hari', 'gender': 'M'}"
      ]
     },
     "execution_count": 16,
     "metadata": {},
     "output_type": "execute_result"
    }
   ],
   "source": [
    "sam_dict"
   ]
  },
  {
   "cell_type": "code",
   "execution_count": 19,
   "id": "e272e6a9-7fea-4f79-a2b3-be6b4f201f69",
   "metadata": {},
   "outputs": [
    {
     "data": {
      "text/plain": [
       "{(1, 2, 3): 'Hi'}"
      ]
     },
     "execution_count": 19,
     "metadata": {},
     "output_type": "execute_result"
    }
   ],
   "source": [
    "# Tuple can be defined as KEY - immutable nature of tuple\n",
    "gh = {(1,2,3) : \"Hi\"}\n",
    "gh"
   ]
  },
  {
   "cell_type": "code",
   "execution_count": 20,
   "id": "dcff32ea-970c-4d14-9bf3-8c6b0e4aca4d",
   "metadata": {},
   "outputs": [
    {
     "ename": "TypeError",
     "evalue": "unhashable type: 'list'",
     "output_type": "error",
     "traceback": [
      "\u001b[0;31m---------------------------------------------------------------------------\u001b[0m",
      "\u001b[0;31mTypeError\u001b[0m                                 Traceback (most recent call last)",
      "Cell \u001b[0;32mIn[20], line 2\u001b[0m\n\u001b[1;32m      1\u001b[0m \u001b[38;5;66;03m#List cannot be defined as KEY\u001b[39;00m\n\u001b[0;32m----> 2\u001b[0m gh \u001b[38;5;241m=\u001b[39m {[\u001b[38;5;241m1\u001b[39m,\u001b[38;5;241m2\u001b[39m,\u001b[38;5;241m3\u001b[39m] : \u001b[38;5;124m\"\u001b[39m\u001b[38;5;124mHi\u001b[39m\u001b[38;5;124m\"\u001b[39m}\n\u001b[1;32m      3\u001b[0m gh\n",
      "\u001b[0;31mTypeError\u001b[0m: unhashable type: 'list'"
     ]
    }
   ],
   "source": [
    "#List cannot be defined as KEY - mutable nature of list\n",
    "gh = {[1,2,3] : \"Hi\"}\n",
    "gh"
   ]
  },
  {
   "cell_type": "code",
   "execution_count": 21,
   "id": "a7cb763f-db6e-4796-83be-20be590a900a",
   "metadata": {},
   "outputs": [
    {
     "ename": "TypeError",
     "evalue": "unhashable type: 'set'",
     "output_type": "error",
     "traceback": [
      "\u001b[0;31m---------------------------------------------------------------------------\u001b[0m",
      "\u001b[0;31mTypeError\u001b[0m                                 Traceback (most recent call last)",
      "Cell \u001b[0;32mIn[21], line 2\u001b[0m\n\u001b[1;32m      1\u001b[0m \u001b[38;5;66;03m# Set cannot be defined as KEY\u001b[39;00m\n\u001b[0;32m----> 2\u001b[0m gh \u001b[38;5;241m=\u001b[39m {{\u001b[38;5;241m1\u001b[39m,\u001b[38;5;241m2\u001b[39m,\u001b[38;5;241m3\u001b[39m} : \u001b[38;5;124m\"\u001b[39m\u001b[38;5;124mHi\u001b[39m\u001b[38;5;124m\"\u001b[39m}\n\u001b[1;32m      3\u001b[0m gh\n",
      "\u001b[0;31mTypeError\u001b[0m: unhashable type: 'set'"
     ]
    }
   ],
   "source": [
    "# Set cannot be defined as KEY - mutable nature of set\n",
    "gh = {{1,2,3} : \"Hi\"}\n",
    "gh"
   ]
  },
  {
   "cell_type": "code",
   "execution_count": 22,
   "id": "72c1329d-1d7b-4a21-9321-a3dcd81c037d",
   "metadata": {},
   "outputs": [
    {
     "data": {
      "text/plain": [
       "{(1, 2, 3): 'Hi'}"
      ]
     },
     "execution_count": 22,
     "metadata": {},
     "output_type": "execute_result"
    }
   ],
   "source": [
    "gh = {(1,2,3) : \"Hi\"}\n",
    "gh"
   ]
  },
  {
   "cell_type": "code",
   "execution_count": 23,
   "id": "7d8e4b75-2858-46c9-b588-819f149515b2",
   "metadata": {},
   "outputs": [
    {
     "data": {
      "text/plain": [
       "1"
      ]
     },
     "execution_count": 23,
     "metadata": {},
     "output_type": "execute_result"
    }
   ],
   "source": [
    "len (gh) #to get the length of the dictionary"
   ]
  },
  {
   "cell_type": "code",
   "execution_count": 24,
   "id": "73e2df2b-1e74-480d-81c1-4a962887b883",
   "metadata": {},
   "outputs": [
    {
     "data": {
      "text/plain": [
       "dict_keys([(1, 2, 3)])"
      ]
     },
     "execution_count": 24,
     "metadata": {},
     "output_type": "execute_result"
    }
   ],
   "source": [
    "gh.keys() #to display the keys of the dictionary"
   ]
  },
  {
   "cell_type": "code",
   "execution_count": 25,
   "id": "82598fc0-07d5-448c-bc3e-9ba92e5a6643",
   "metadata": {},
   "outputs": [
    {
     "data": {
      "text/plain": [
       "dict_values(['Hi'])"
      ]
     },
     "execution_count": 25,
     "metadata": {},
     "output_type": "execute_result"
    }
   ],
   "source": [
    "gh.values() #to get the values of the dictionary"
   ]
  },
  {
   "cell_type": "code",
   "execution_count": 26,
   "id": "9d63b3d2-c189-4c79-bb5c-f194994af188",
   "metadata": {},
   "outputs": [
    {
     "data": {
      "text/plain": [
       "{(1, 2, 3): 'Hi'}"
      ]
     },
     "execution_count": 26,
     "metadata": {},
     "output_type": "execute_result"
    }
   ],
   "source": [
    "gh = {(1,2,3) : \"Hi\"}\n",
    "gh"
   ]
  },
  {
   "cell_type": "code",
   "execution_count": 27,
   "id": "59aabbd6-aa64-47a9-85d2-8e8b10617f62",
   "metadata": {},
   "outputs": [],
   "source": [
    "gh.clear() #clears all the elemtns of the dictionary"
   ]
  },
  {
   "cell_type": "code",
   "execution_count": 28,
   "id": "a747b043-d4c3-499e-b3e3-848d0f9e5e4a",
   "metadata": {},
   "outputs": [
    {
     "data": {
      "text/plain": [
       "{}"
      ]
     },
     "execution_count": 28,
     "metadata": {},
     "output_type": "execute_result"
    }
   ],
   "source": [
    "gh"
   ]
  },
  {
   "cell_type": "code",
   "execution_count": 18,
   "id": "47af875e-b1ed-4bc4-99c8-280f7bcade30",
   "metadata": {},
   "outputs": [
    {
     "name": "stdout",
     "output_type": "stream",
     "text": [
      "Q7 & Q8 completed - dictionary data structure in Python\n"
     ]
    }
   ],
   "source": [
    "print (\"Q7 & Q8 completed - dictionary data structure in Python\")"
   ]
  },
  {
   "cell_type": "code",
   "execution_count": null,
   "id": "7414e786-0198-4b3f-8e85-84f4b5152d10",
   "metadata": {},
   "outputs": [],
   "source": [
    "# Q4 tuples and list comparison with examples"
   ]
  },
  {
   "cell_type": "code",
   "execution_count": 29,
   "id": "f341acef-bf4e-4b71-a14f-925d4a58a314",
   "metadata": {},
   "outputs": [
    {
     "name": "stdout",
     "output_type": "stream",
     "text": [
      "Q4 tuples and list comparison with examples\n"
     ]
    }
   ],
   "source": [
    "print (\"Q4 tuples and list comparison with examples\")"
   ]
  },
  {
   "attachments": {
    "d5e08ee4-16cc-4cb7-8fd4-e036c06d050d.png": {
     "image/png": "[encoded data removed]"
    }
   },
   "cell_type": "markdown",
   "id": "15070217-c3c6-4742-b348-8605d67cfb1b",
   "metadata": {},
   "source": [
    "![image.png](attachment:d5e08ee4-16cc-4cb7-8fd4-e036c06d050d.png)"
   ]
  },
  {
   "cell_type": "code",
   "execution_count": null,
   "id": "71a0d9a4-6b24-4852-860a-1821df262908",
   "metadata": {},
   "outputs": [],
   "source": [
    "#Above are the differences between tuples and list"
   ]
  },
  {
   "cell_type": "code",
   "execution_count": 32,
   "id": "24e85108-dd2f-4716-b9da-017f325784de",
   "metadata": {},
   "outputs": [
    {
     "data": {
      "text/plain": [
       "list"
      ]
     },
     "execution_count": 32,
     "metadata": {},
     "output_type": "execute_result"
    }
   ],
   "source": [
    "#Examples\n",
    "# List\n",
    "ok =  [1,2,\"Hi\",3+4j]\n",
    "type (ok)"
   ]
  },
  {
   "cell_type": "code",
   "execution_count": 34,
   "id": "7d0e0b24-b53e-46d6-b831-0f05dcd0ac5a",
   "metadata": {},
   "outputs": [
    {
     "data": {
      "text/plain": [
       "[1, 2, 'Hi', (3+4j)]"
      ]
     },
     "execution_count": 34,
     "metadata": {},
     "output_type": "execute_result"
    }
   ],
   "source": [
    "ok"
   ]
  },
  {
   "cell_type": "code",
   "execution_count": 35,
   "id": "c1ebbc0e-f0aa-4388-85d8-8bab40a40631",
   "metadata": {},
   "outputs": [
    {
     "name": "stdout",
     "output_type": "stream",
     "text": [
      "(101, 102, 103, 104, 105, 106, 107, 108)\n"
     ]
    },
    {
     "data": {
      "text/plain": [
       "tuple"
      ]
     },
     "execution_count": 35,
     "metadata": {},
     "output_type": "execute_result"
    }
   ],
   "source": [
    "#Tuples\n",
    "empid = (101,102,103,104,105,106,107,108)\n",
    "print(empid)\n",
    "type (empid)"
   ]
  },
  {
   "cell_type": "code",
   "execution_count": 36,
   "id": "e09a3b81-aa1d-47d2-a2de-e956b80fa20f",
   "metadata": {},
   "outputs": [
    {
     "data": {
      "text/plain": [
       "[1, 2, 'Hi', (3+4j)]"
      ]
     },
     "execution_count": 36,
     "metadata": {},
     "output_type": "execute_result"
    }
   ],
   "source": [
    "ok =  [1,2,\"Hi\",3+4j]\n",
    "type (ok)\n",
    "ok"
   ]
  },
  {
   "cell_type": "code",
   "execution_count": 37,
   "id": "2ca6c82f-6828-4029-afdd-b0fc87abef07",
   "metadata": {},
   "outputs": [
    {
     "data": {
      "text/plain": [
       "[1, 2, 'Bye', (3+4j)]"
      ]
     },
     "execution_count": 37,
     "metadata": {},
     "output_type": "execute_result"
    }
   ],
   "source": [
    "#list - value can be modified\n",
    "ok[2]=\"Bye\"\n",
    "ok"
   ]
  },
  {
   "cell_type": "code",
   "execution_count": 38,
   "id": "0a3d3cf6-19b8-4df1-b02a-9f98b0d2ed1e",
   "metadata": {},
   "outputs": [
    {
     "data": {
      "text/plain": [
       "(101, 102, 103, 104, 105, 106, 107, 108)"
      ]
     },
     "execution_count": 38,
     "metadata": {},
     "output_type": "execute_result"
    }
   ],
   "source": [
    "#Tuples\n",
    "empid = (101,102,103,104,105,106,107,108)\n",
    "type (empid)\n",
    "empid"
   ]
  },
  {
   "cell_type": "code",
   "execution_count": 39,
   "id": "7b2d4bc7-008c-41ab-9351-fb392ea5e3f5",
   "metadata": {},
   "outputs": [
    {
     "ename": "TypeError",
     "evalue": "'tuple' object does not support item assignment",
     "output_type": "error",
     "traceback": [
      "\u001b[0;31m---------------------------------------------------------------------------\u001b[0m",
      "\u001b[0;31mTypeError\u001b[0m                                 Traceback (most recent call last)",
      "Cell \u001b[0;32mIn[39], line 1\u001b[0m\n\u001b[0;32m----> 1\u001b[0m \u001b[43mempid\u001b[49m\u001b[43m[\u001b[49m\u001b[38;5;241;43m4\u001b[39;49m\u001b[43m]\u001b[49m\u001b[38;5;241m=\u001b[39m\u001b[38;5;241m115\u001b[39m\n",
      "\u001b[0;31mTypeError\u001b[0m: 'tuple' object does not support item assignment"
     ]
    }
   ],
   "source": [
    "#Tuple - trying to modify - does not support item assignment\n",
    "# element values cannot be modified after creation\n",
    "empid[4]=115"
   ]
  },
  {
   "cell_type": "code",
   "execution_count": 41,
   "id": "7e90828a-674b-4ef2-8496-d7c779653e0f",
   "metadata": {},
   "outputs": [
    {
     "data": {
      "text/plain": [
       "(101, 102, 103, 104, 105, 106, 107, 108)"
      ]
     },
     "execution_count": 41,
     "metadata": {},
     "output_type": "execute_result"
    }
   ],
   "source": [
    "#Tuples\n",
    "empid = (101,102,103,104,105,106,107,108)\n",
    "type (empid)\n",
    "empid"
   ]
  },
  {
   "cell_type": "code",
   "execution_count": 42,
   "id": "b71650b9-818d-4452-8ac2-bd3e2b44f0df",
   "metadata": {},
   "outputs": [
    {
     "ename": "AttributeError",
     "evalue": "'tuple' object has no attribute 'append'",
     "output_type": "error",
     "traceback": [
      "\u001b[0;31m---------------------------------------------------------------------------\u001b[0m",
      "\u001b[0;31mAttributeError\u001b[0m                            Traceback (most recent call last)",
      "Cell \u001b[0;32mIn[42], line 1\u001b[0m\n\u001b[0;32m----> 1\u001b[0m \u001b[43mempid\u001b[49m\u001b[38;5;241;43m.\u001b[39;49m\u001b[43mappend\u001b[49m(\u001b[38;5;241m110\u001b[39m)\n",
      "\u001b[0;31mAttributeError\u001b[0m: 'tuple' object has no attribute 'append'"
     ]
    }
   ],
   "source": [
    "empid.append(110) #cannot add new element for defined data elements"
   ]
  },
  {
   "cell_type": "code",
   "execution_count": 43,
   "id": "be802356-6ae0-42c3-b962-7e486b01f045",
   "metadata": {},
   "outputs": [
    {
     "data": {
      "text/plain": [
       "[1, 2, 'Hi', (3+4j)]"
      ]
     },
     "execution_count": 43,
     "metadata": {},
     "output_type": "execute_result"
    }
   ],
   "source": [
    "ok =  [1,2,\"Hi\",3+4j]\n",
    "type (ok)\n",
    "ok"
   ]
  },
  {
   "cell_type": "code",
   "execution_count": 44,
   "id": "8b765451-968f-459d-971f-c2d949cfc7b5",
   "metadata": {},
   "outputs": [
    {
     "data": {
      "text/plain": [
       "[1, 2, 'Hi', (3+4j), 'Yes']"
      ]
     },
     "execution_count": 44,
     "metadata": {},
     "output_type": "execute_result"
    }
   ],
   "source": [
    "ok.append(\"Yes\")  #to add new element into existing data elements\n",
    "ok"
   ]
  },
  {
   "cell_type": "code",
   "execution_count": 30,
   "id": "47b1eeae-198f-461a-9564-b051026e1176",
   "metadata": {},
   "outputs": [
    {
     "name": "stdout",
     "output_type": "stream",
     "text": [
      "Q4 tuples and list comparison with examples completed\n"
     ]
    }
   ],
   "source": [
    "print (\"Q4 tuples and list comparison with examples completed\")"
   ]
  },
  {
   "cell_type": "code",
   "execution_count": 31,
   "id": "a9535082-4048-4229-af02-8db0e60fe8b5",
   "metadata": {},
   "outputs": [
    {
     "name": "stdout",
     "output_type": "stream",
     "text": [
      "Q4 completed\n"
     ]
    }
   ],
   "source": [
    "print (\"Q4 completed\")"
   ]
  },
  {
   "cell_type": "code",
   "execution_count": null,
   "id": "30f2bce1-ed79-4b85-bd0e-ac50265ab586",
   "metadata": {},
   "outputs": [],
   "source": [
    "# Q1 string slicing concept"
   ]
  },
  {
   "cell_type": "code",
   "execution_count": 45,
   "id": "b0273d73-58f2-4c87-ad4e-c453683c9055",
   "metadata": {},
   "outputs": [
    {
     "name": "stdout",
     "output_type": "stream",
     "text": [
      "Q1 string slicing start\n"
     ]
    }
   ],
   "source": [
    "print (\"Q1 string slicing start\")"
   ]
  },
  {
   "cell_type": "code",
   "execution_count": null,
   "id": "cc12bc2b-649d-4b42-9eb6-ccfcfe274335",
   "metadata": {},
   "outputs": [],
   "source": [
    "\"\"\"\n",
    "Strings are denoted by either single quotation mark or double quotation mark\n",
    "Strings are sequence of characters which follows indexing concept\n",
    "Slicing in strings means returning specifc range of characters from the whole string value\n",
    "Slicing refers to sub part of the main string part\n",
    "\n",
    "Below illustrations\n",
    "\"\"\""
   ]
  },
  {
   "cell_type": "code",
   "execution_count": 5,
   "id": "af74b8fb-42ef-4ebe-847b-db9e88d6ca7c",
   "metadata": {},
   "outputs": [
    {
     "data": {
      "text/plain": [
       "str"
      ]
     },
     "execution_count": 5,
     "metadata": {},
     "output_type": "execute_result"
    }
   ],
   "source": [
    "#Slicing example 1\n",
    "#t[0:4] means start from zero index till n-1 index, in our case (4-1) 3 index\n",
    "t = \"Tim Harton\"\n",
    "type (t)"
   ]
  },
  {
   "cell_type": "code",
   "execution_count": 6,
   "id": "83573b63-fe69-4c87-b518-3c9ae9f28f98",
   "metadata": {},
   "outputs": [
    {
     "data": {
      "text/plain": [
       "'Tim '"
      ]
     },
     "execution_count": 6,
     "metadata": {},
     "output_type": "execute_result"
    }
   ],
   "source": [
    "t[0:4]"
   ]
  },
  {
   "cell_type": "code",
   "execution_count": 8,
   "id": "14072884-d41c-4ead-9d28-f6ec6edbe596",
   "metadata": {},
   "outputs": [
    {
     "data": {
      "text/plain": [
       "'Tim Harton'"
      ]
     },
     "execution_count": 8,
     "metadata": {},
     "output_type": "execute_result"
    }
   ],
   "source": [
    "#Example 2\n",
    "# start from 0 til end of the string\n",
    "t[0:]"
   ]
  },
  {
   "cell_type": "code",
   "execution_count": 9,
   "id": "ef06c114-c61e-4f7f-b71c-b1f8c5ca233c",
   "metadata": {},
   "outputs": [
    {
     "data": {
      "text/plain": [
       "''"
      ]
     },
     "execution_count": 9,
     "metadata": {},
     "output_type": "execute_result"
    }
   ],
   "source": [
    "#Example 3\n",
    "# start from index value 2 til end of the string\n",
    "t[2:0]"
   ]
  },
  {
   "cell_type": "code",
   "execution_count": 10,
   "id": "2f06e95d-c8e0-427b-9058-ebcf005429c5",
   "metadata": {},
   "outputs": [
    {
     "data": {
      "text/plain": [
       "'Tim Har'"
      ]
     },
     "execution_count": 10,
     "metadata": {},
     "output_type": "execute_result"
    }
   ],
   "source": [
    "#Example 4\n",
    "# except last 3 characters, display the rest\n",
    "t[:-3]"
   ]
  },
  {
   "cell_type": "code",
   "execution_count": 11,
   "id": "33424708-fc4b-49be-b42e-a2d2d73850f2",
   "metadata": {},
   "outputs": [
    {
     "data": {
      "text/plain": [
       "'ton'"
      ]
     },
     "execution_count": 11,
     "metadata": {},
     "output_type": "execute_result"
    }
   ],
   "source": [
    "#Example 5\n",
    "# display only last 3 characters\n",
    "t[-3:]"
   ]
  },
  {
   "cell_type": "code",
   "execution_count": 15,
   "id": "bf9e5d5c-4b2d-455d-a087-c63c4abd715d",
   "metadata": {},
   "outputs": [
    {
     "data": {
      "text/plain": [
       "'Tm'"
      ]
     },
     "execution_count": 15,
     "metadata": {},
     "output_type": "execute_result"
    }
   ],
   "source": [
    "#Example 6\n",
    "# from 0 index till 3 index with skip 1 index\n",
    "t[0:3:2]"
   ]
  },
  {
   "cell_type": "code",
   "execution_count": 16,
   "id": "af7733fe-4b90-4ec7-9ca9-d3ffd4becc19",
   "metadata": {},
   "outputs": [
    {
     "data": {
      "text/plain": [
       "'Tim Harton'"
      ]
     },
     "execution_count": 16,
     "metadata": {},
     "output_type": "execute_result"
    }
   ],
   "source": [
    "#Example 7 - gives full output\n",
    "t[::1]"
   ]
  },
  {
   "cell_type": "code",
   "execution_count": 17,
   "id": "001fec06-6d28-4690-9bde-666208bc27f1",
   "metadata": {},
   "outputs": [
    {
     "data": {
      "text/plain": [
       "'notraH miT'"
      ]
     },
     "execution_count": 17,
     "metadata": {},
     "output_type": "execute_result"
    }
   ],
   "source": [
    "#Example 8 - reveerse the given string\n",
    "t[::-1]"
   ]
  },
  {
   "cell_type": "code",
   "execution_count": 46,
   "id": "bc2aa06c-aa24-4c77-9a07-7b2ed00dc5e8",
   "metadata": {},
   "outputs": [
    {
     "name": "stdout",
     "output_type": "stream",
     "text": [
      "Q1 string slicing ended\n"
     ]
    }
   ],
   "source": [
    "print (\"Q1 string slicing ended\")"
   ]
  },
  {
   "cell_type": "code",
   "execution_count": 47,
   "id": "5cc08a1b-e3e6-4038-9089-87f27c88d582",
   "metadata": {},
   "outputs": [
    {
     "name": "stdout",
     "output_type": "stream",
     "text": [
      "Q1 answer ended\n"
     ]
    }
   ],
   "source": [
    "print (\"Q1 answer ended\")"
   ]
  },
  {
   "cell_type": "code",
   "execution_count": 49,
   "id": "e895dba1-5d2b-4164-a4f7-a855832e0ce2",
   "metadata": {},
   "outputs": [
    {
     "name": "stdout",
     "output_type": "stream",
     "text": [
      "Assignment 2 for data structures completed\n"
     ]
    }
   ],
   "source": [
    "print (\"Assignment 2 for data structures completed\")"
   ]
  }
 ],
 "metadata": {
  "kernelspec": {
   "display_name": "Python 3 (ipykernel)",
   "language": "python",
   "name": "python3"
  },
  "language_info": {
   "codemirror_mode": {
    "name": "ipython",
    "version": 3
   },
   "file_extension": ".py",
   "mimetype": "text/x-python",
   "name": "python",
   "nbconvert_exporter": "python",
   "pygments_lexer": "ipython3",
   "version": "3.10.8"
  }
 },
 "nbformat": 4,
 "nbformat_minor": 5
}
